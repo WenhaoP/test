{
 "cells": [
  {
   "cell_type": "code",
   "execution_count": 7,
   "id": "2cbcc29e",
   "metadata": {},
   "outputs": [],
   "source": [
    "L = 3\n",
    "L += 5"
   ]
  },
  {
   "cell_type": "markdown",
   "id": "89810873-0a07-488a-b30d-b2c43ce50143",
   "metadata": {},
   "source": [
    "Test pairing"
   ]
  },
  {
   "cell_type": "code",
   "execution_count": null,
   "id": "1003de14-d34c-498a-886f-16ee6808e9e6",
   "metadata": {},
   "outputs": [],
   "source": []
  }
 ],
 "metadata": {
  "jupytext": {
   "formats": "ipynb,md"
  },
  "kernelspec": {
   "display_name": "Python 3 (ipykernel)",
   "language": "python",
   "name": "python3"
  },
  "language_info": {
   "codemirror_mode": {
    "name": "ipython",
    "version": 3
   },
   "file_extension": ".py",
   "mimetype": "text/x-python",
   "name": "python",
   "nbconvert_exporter": "python",
   "pygments_lexer": "ipython3",
   "version": "3.9.9"
  }
 },
 "nbformat": 4,
 "nbformat_minor": 5
}
